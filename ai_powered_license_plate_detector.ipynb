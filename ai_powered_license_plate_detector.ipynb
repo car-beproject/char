{
 "cells": [
  {
   "cell_type": "code",
   "execution_count": 26,
   "metadata": {
    "colab": {},
    "colab_type": "code",
    "id": "ycRjhI25UC-P"
   },
   "outputs": [],
   "source": [
    "import matplotlib.pyplot as plt"
   ]
  },
  {
   "cell_type": "code",
   "execution_count": 27,
   "metadata": {
    "colab": {},
    "colab_type": "code",
    "id": "MzopHrMvUC-Z"
   },
   "outputs": [],
   "source": [
    "import numpy as np\n",
    "import cv2\n",
    "\n",
    "# Match contours to license plate or character template\n",
    "def find_contours(dimensions, img) :\n",
    "\n",
    "    # Find all contours in the image\n",
    "    cntrs, _ = cv2.findContours(img.copy(), cv2.RETR_TREE, cv2.CHAIN_APPROX_SIMPLE)\n",
    "\n",
    "    # Retrieve potential dimensions\n",
    "    lower_width = dimensions[0]\n",
    "    upper_width = dimensions[1]\n",
    "    lower_height = dimensions[2]\n",
    "    upper_height = dimensions[3]\n",
    "    \n",
    "    # Check largest 5 or  15 contours for license plate or character respectively\n",
    "    cntrs = sorted(cntrs, key=cv2.contourArea, reverse=True)[:15]\n",
    "    \n",
    "    ii = cv2.imread('contour.jpg')\n",
    "    \n",
    "    x_cntr_list = []\n",
    "    target_contours = []\n",
    "    img_res = []\n",
    "    for cntr in cntrs :\n",
    "        #detects contour in binary image and returns the coordinates of rectangle enclosing it\n",
    "        intX, intY, intWidth, intHeight = cv2.boundingRect(cntr)\n",
    "        \n",
    "        #checking the dimensions of the contour to filter out the characters by contour's size\n",
    "        if intWidth > lower_width and intWidth < upper_width and intHeight > lower_height and intHeight < upper_height :\n",
    "            x_cntr_list.append(intX) #stores the x coordinate of the character's contour, to used later for indexing the contours\n",
    "\n",
    "            char_copy = np.zeros((44,24))\n",
    "            #extracting each character using the enclosing rectangle's coordinates.\n",
    "            char = img[intY:intY+intHeight, intX:intX+intWidth]\n",
    "            char = cv2.resize(char, (20, 40))\n",
    "            \n",
    "            cv2.rectangle(ii, (intX,intY), (intWidth+intX, intY+intHeight), (50,21,200), 2)\n",
    "            plt.imshow(ii, cmap='gray')\n",
    "\n",
    "#             Make result formatted for classification: invert colors\n",
    "            char = cv2.subtract(255, char)\n",
    "\n",
    "            # Resize the image to 24x44 with black border\n",
    "            char_copy[2:42, 2:22] = char\n",
    "            char_copy[0:2, :] = 0\n",
    "            char_copy[:, 0:2] = 0\n",
    "            char_copy[42:44, :] = 0\n",
    "            char_copy[:, 22:24] = 0\n",
    "\n",
    "            img_res.append(char_copy) #List that stores the character's binary image (unsorted)\n",
    "            \n",
    "    #Return characters on ascending order with respect to the x-coordinate (most-left character first)\n",
    "            \n",
    "    plt.show()\n",
    "    #arbitrary function that stores sorted list of character indeces\n",
    "    indices = sorted(range(len(x_cntr_list)), key=lambda k: x_cntr_list[k])\n",
    "    img_res_copy = []\n",
    "    for idx in indices:\n",
    "        img_res_copy.append(img_res[idx])# stores character images according to their index\n",
    "    img_res = np.array(img_res_copy)\n",
    "\n",
    "    return img_res"
   ]
  },
  {
   "cell_type": "code",
   "execution_count": 52,
   "metadata": {
    "colab": {},
    "colab_type": "code",
    "id": "h23diSmEUC-e"
   },
   "outputs": [],
   "source": [
    "# Find characters in the resulting images\n",
    "def segment_characters(image) :\n",
    "\n",
    "    # Preprocess cropped license plate image\n",
    "    img_lp = cv2.resize(image, (333, 75))\n",
    "    img_gray_lp = cv2.cvtColor(img_lp, cv2.COLOR_BGR2GRAY)\n",
    "    _, img_binary_lp = cv2.threshold(img_gray_lp, 200, 255, cv2.THRESH_BINARY+cv2.THRESH_OTSU)\n",
    "    img_binary_lp = cv2.erode(img_binary_lp, (3,3))\n",
    "    img_binary_lp = cv2.dilate(img_binary_lp, (3,3))\n",
    "    \n",
    "    plt.imshow(img_binary_lp)\n",
    "    plt.show()\n",
    "    print(img_binary_lp.shape)\n",
    "\n",
    "    LP_WIDTH = img_binary_lp.shape[0]\n",
    "    LP_HEIGHT = img_binary_lp.shape[1]\n",
    "\n",
    "    # Make borders white\n",
    "    img_binary_lp[0:3,:] = 255\n",
    "    img_binary_lp[:,0:3] = 255\n",
    "    img_binary_lp[72:75,:] = 255\n",
    "    img_binary_lp[:,330:333] = 255\n",
    "\n",
    "    # Estimations of character contours sizes of cropped license plates\n",
    "    dimensions = [LP_WIDTH/6,\n",
    "                       LP_WIDTH/2,\n",
    "                       LP_HEIGHT/10,\n",
    "                       2*LP_HEIGHT/3]\n",
    "    plt.imshow(img_binary_lp, cmap='gray')\n",
    "    plt.show()\n",
    "    cv2.imwrite('contour.jpg',img_binary_lp)\n",
    "\n",
    "    # Get contours within cropped license plate\n",
    "    char_list = find_contours(dimensions, img_binary_lp)\n",
    "\n",
    "    return char_list"
   ]
  },
  {
   "cell_type": "code",
   "execution_count": 92,
   "metadata": {
    "colab": {
     "base_uri": "https://localhost:8080/",
     "height": 237
    },
    "colab_type": "code",
    "id": "OGhFmSnYUC-j",
    "outputId": "fabb6134-d314-439b-fb85-3967f315fd1c"
   },
   "outputs": [
    {
     "data": {
      "image/png": "[encoded data removed]",
      "text/plain": [
       "<Figure size 432x288 with 1 Axes>"
      ]
     },
     "metadata": {
      "needs_background": "light"
     },
     "output_type": "display_data"
    },
    {
     "name": "stdout",
     "output_type": "stream",
     "text": [
      "(75, 333)\n"
     ]
    },
    {
     "data": {
      "image/png": "[encoded data removed]",
      "text/plain": [
       "<Figure size 432x288 with 1 Axes>"
      ]
     },
     "metadata": {
      "needs_background": "light"
     },
     "output_type": "display_data"
    },
    {
     "data": {
      "image/png": "[encoded data removed]",
      "text/plain": [
       "<Figure size 432x288 with 1 Axes>"
      ]
     },
     "metadata": {
      "needs_background": "light"
     },
     "output_type": "display_data"
    }
   ],
   "source": [
    "img = cv2.imread('w.jpg')\n",
    "char = segment_characters(img)"
   ]
  },
  {
   "cell_type": "code",
   "execution_count": 93,
   "metadata": {
    "colab": {
     "base_uri": "https://localhost:8080/",
     "height": 83
    },
    "colab_type": "code",
    "id": "rZoiyrDaUC-p",
    "outputId": "12c01433-ba9b-45fc-8663-ddf2f3a3cc22"
   },
   "outputs": [
    {
     "name": "stdout",
     "output_type": "stream",
     "text": [
      "(44, 24)\n",
      "(44, 24)\n",
      "(44, 24)\n",
      "(44, 24)\n",
      "(44, 24)\n",
      "(44, 24)\n",
      "(44, 24)\n",
      "(44, 24)\n",
      "(44, 24)\n"
     ]
    },
    {
     "data": {
      "image/png": "[encoded data removed]",
      "text/plain": [
       "<Figure size 432x288 with 1 Axes>"
      ]
     },
     "metadata": {
      "needs_background": "light"
     },
     "output_type": "display_data"
    }
   ],
   "source": [
    "#import pytesseract\n",
    "vis = char[0]\n",
    "for i in range(1,10):\n",
    "    vis = np.concatenate((vis,char[i]), axis=1)\n",
    "    #char[i]=255-char[i] \n",
    "    plt.imshow(vis,cmap=\"gray\")\n",
    "    print(char[i].shape)\n",
    "    plt.axis('off')\n",
    "    #text=pytesseract.image_to_string(char[i], config=\"-c tessedit_char_whitelist=0123456789ABCDEFGHIJKLMNOPQRSTUVXYZ --psm 6\")\n",
    "    #print(text)"
   ]
  },
  {
   "cell_type": "code",
   "execution_count": 94,
   "metadata": {},
   "outputs": [
    {
     "data": {
      "text/plain": [
       "(-0.5, 239.5, 43.5, -0.5)"
      ]
     },
     "execution_count": 94,
     "metadata": {},
     "output_type": "execute_result"
    },
    {
     "data": {
      "image/png": "[encoded data removed]",
      "text/plain": [
       "<Figure size 432x288 with 1 Axes>"
      ]
     },
     "metadata": {
      "needs_background": "light"
     },
     "output_type": "display_data"
    }
   ],
   "source": [
    "vis=255-vis\n",
    "plt.imshow(vis,cmap='gray')\n",
    "plt.axis('off')"
   ]
  },
  {
   "cell_type": "markdown",
   "metadata": {
    "colab_type": "text",
    "id": "QXhqHfXLUC-9"
   },
   "source": [
    "### Model for characters"
   ]
  },
  {
   "cell_type": "code",
   "execution_count": 6,
   "metadata": {
    "colab": {},
    "colab_type": "code",
    "id": "cnH_x_PXUC_A"
   },
   "outputs": [
    {
     "name": "stderr",
     "output_type": "stream",
     "text": [
      "c:\\users\\yash\\appdata\\local\\programs\\python\\python37\\lib\\site-packages\\tensorflow\\python\\framework\\dtypes.py:526: FutureWarning: Passing (type, 1) or '1type' as a synonym of type is deprecated; in a future version of numpy, it will be understood as (type, (1,)) / '(1,)type'.\n",
      "  _np_qint8 = np.dtype([(\"qint8\", np.int8, 1)])\n",
      "c:\\users\\yash\\appdata\\local\\programs\\python\\python37\\lib\\site-packages\\tensorflow\\python\\framework\\dtypes.py:527: FutureWarning: Passing (type, 1) or '1type' as a synonym of type is deprecated; in a future version of numpy, it will be understood as (type, (1,)) / '(1,)type'.\n",
      "  _np_quint8 = np.dtype([(\"quint8\", np.uint8, 1)])\n",
      "c:\\users\\yash\\appdata\\local\\programs\\python\\python37\\lib\\site-packages\\tensorflow\\python\\framework\\dtypes.py:528: FutureWarning: Passing (type, 1) or '1type' as a synonym of type is deprecated; in a future version of numpy, it will be understood as (type, (1,)) / '(1,)type'.\n",
      "  _np_qint16 = np.dtype([(\"qint16\", np.int16, 1)])\n",
      "c:\\users\\yash\\appdata\\local\\programs\\python\\python37\\lib\\site-packages\\tensorflow\\python\\framework\\dtypes.py:529: FutureWarning: Passing (type, 1) or '1type' as a synonym of type is deprecated; in a future version of numpy, it will be understood as (type, (1,)) / '(1,)type'.\n",
      "  _np_quint16 = np.dtype([(\"quint16\", np.uint16, 1)])\n",
      "c:\\users\\yash\\appdata\\local\\programs\\python\\python37\\lib\\site-packages\\tensorflow\\python\\framework\\dtypes.py:530: FutureWarning: Passing (type, 1) or '1type' as a synonym of type is deprecated; in a future version of numpy, it will be understood as (type, (1,)) / '(1,)type'.\n",
      "  _np_qint32 = np.dtype([(\"qint32\", np.int32, 1)])\n",
      "c:\\users\\yash\\appdata\\local\\programs\\python\\python37\\lib\\site-packages\\tensorflow\\python\\framework\\dtypes.py:535: FutureWarning: Passing (type, 1) or '1type' as a synonym of type is deprecated; in a future version of numpy, it will be understood as (type, (1,)) / '(1,)type'.\n",
      "  np_resource = np.dtype([(\"resource\", np.ubyte, 1)])\n"
     ]
    }
   ],
   "source": [
    "import tensorflow as tf\n",
    "tf.enable_eager_execution()"
   ]
  },
  {
   "cell_type": "code",
   "execution_count": 7,
   "metadata": {
    "colab": {
     "base_uri": "https://localhost:8080/",
     "height": 51
    },
    "colab_type": "code",
    "id": "BhrsmfX9UC_p",
    "outputId": "0bd4c93b-dc04-4ca4-877b-9f084a03b550"
   },
   "outputs": [
    {
     "name": "stdout",
     "output_type": "stream",
     "text": [
      "Found 864 images belonging to 36 classes.\n",
      "Found 216 images belonging to 36 classes.\n"
     ]
    }
   ],
   "source": [
    "from tensorflow.keras.preprocessing.image import ImageDataGenerator\n",
    "train_datagen = ImageDataGenerator(rescale=1./255, width_shift_range=0.1, height_shift_range=0.1)\n",
    "train_generator = train_datagen.flow_from_directory(\n",
    "        'data/train',  # this is the target directory\n",
    "        target_size=(28,28),  # all images will be resized to 28x28\n",
    "        batch_size=1,\n",
    "        class_mode='categorical')\n",
    "\n",
    "validation_generator = train_datagen.flow_from_directory(\n",
    "        'data/val',  # this is the target directory\n",
    "        target_size=(28,28),  # all images will be resized to 28x28        batch_size=1,\n",
    "        class_mode='categorical')"
   ]
  },
  {
   "cell_type": "code",
   "execution_count": 13,
   "metadata": {
    "colab": {},
    "colab_type": "code",
    "id": "jy9Ges8McSGl"
   },
   "outputs": [],
   "source": [
    "from tensorflow.keras.models import Sequential\n",
    "from tensorflow.keras.layers import Dense, Flatten, MaxPooling2D, Dropout, Conv2D, BatchNormalization\n",
    "from tensorflow.keras import optimizers"
   ]
  },
  {
   "cell_type": "code",
   "execution_count": 14,
   "metadata": {
    "colab": {},
    "colab_type": "code",
    "id": "8IjCdBYrp4EK"
   },
   "outputs": [],
   "source": [
    "model = Sequential()\n",
    "model.add(Conv2D(32, (24,24), input_shape=(28, 28, 3), activation='relu', padding='same'))\n",
    "model.add(BatchNormalization())\n",
    "model.add(Conv2D(32, (20,20), input_shape=(28, 28, 3), activation='relu', padding='same'))\n",
    "model.add(BatchNormalization())\n",
    "model.add(Conv2D(32, (20,20), input_shape=(28, 28, 3), activation='relu', padding='same'))\n",
    "model.add(MaxPooling2D(pool_size=(2, 2)))\n",
    "model.add(Dropout(0.4))\n",
    "model.add(Flatten())\n",
    "model.add(Dense(128, activation='relu'))\n",
    "model.add(Dense(36, activation='softmax'))\n",
    "\n",
    "model.compile(loss='categorical_crossentropy', optimizer=optimizers.Adam(lr=0.00001), metrics=['accuracy'])"
   ]
  },
  {
   "cell_type": "code",
   "execution_count": 15,
   "metadata": {
    "colab": {},
    "colab_type": "code",
    "id": "w5aaqsHABUwx"
   },
   "outputs": [],
   "source": [
    "class stop_training_callback(tf.keras.callbacks.Callback):\n",
    "  def on_epoch_end(self, epoch, logs={}):\n",
    "    if(logs.get('val_acc') > 0.992):\n",
    "      self.model.stop_training = True"
   ]
  },
  {
   "cell_type": "code",
   "execution_count": 16,
   "metadata": {
    "colab": {
     "base_uri": "https://localhost:8080/",
     "height": 34
    },
    "colab_type": "code",
    "id": "QqoZHrC6DBY3",
    "outputId": "04893bee-16d5-44a3-db5f-221cf155ba82"
   },
   "outputs": [
    {
     "name": "stdout",
     "output_type": "stream",
     "text": [
      "WARNING:tensorflow:Weight and gradient histograms not supported for eagerexecution, setting `histogram_freq` to `0`.\n"
     ]
    },
    {
     "name": "stderr",
     "output_type": "stream",
     "text": [
      "'rm' is not recognized as an internal or external command,\n",
      "operable program or batch file.\n"
     ]
    }
   ],
   "source": [
    "import datetime\n",
    "!rm -rf logs\n",
    "log_dir=\"logs/fit/\" + datetime.datetime.now().strftime(\"%Y%m%d-%H%M%S\")\n",
    "tensorboard_callback = tf.keras.callbacks.TensorBoard(log_dir=log_dir, histogram_freq=1)"
   ]
  },
  {
   "cell_type": "code",
   "execution_count": 17,
   "metadata": {
    "colab": {
     "base_uri": "https://localhost:8080/",
     "height": 1000
    },
    "colab_type": "code",
    "id": "KPAtDd_Jp4BP",
    "outputId": "fbdd1ad4-32fd-40b7-eb13-61ed1db14e47"
   },
   "outputs": [
    {
     "name": "stdout",
     "output_type": "stream",
     "text": [
      "Epoch 1/80\n",
      "7/7 [==============================] - 10s 1s/step - loss: 2.2788 - acc: 0.4907\n",
      "864/864 [==============================] - 295s 341ms/step - loss: 3.1674 - acc: 0.1725 - val_loss: 2.2788 - val_acc: 0.4907\n",
      "Epoch 2/80\n",
      "7/7 [==============================] - 10s 1s/step - loss: 1.3936 - acc: 0.7130\n",
      "864/864 [==============================] - 297s 343ms/step - loss: 1.9804 - acc: 0.4745 - val_loss: 1.3936 - val_acc: 0.7130\n",
      "Epoch 3/80\n",
      "7/7 [==============================] - 11s 2s/step - loss: 0.7836 - acc: 0.8241\n",
      "864/864 [==============================] - 301s 349ms/step - loss: 1.2902 - acc: 0.6412 - val_loss: 0.7836 - val_acc: 0.8241\n",
      "Epoch 4/80\n",
      "7/7 [==============================] - 10s 1s/step - loss: 0.6057 - acc: 0.8519\n",
      "864/864 [==============================] - 284s 329ms/step - loss: 0.8263 - acc: 0.7593 - val_loss: 0.6057 - val_acc: 0.8519\n",
      "Epoch 5/80\n",
      "7/7 [==============================] - 9s 1s/step - loss: 0.4756 - acc: 0.9074\n",
      "864/864 [==============================] - 272s 314ms/step - loss: 0.7065 - acc: 0.7905 - val_loss: 0.4756 - val_acc: 0.9074\n",
      "Epoch 6/80\n",
      "7/7 [==============================] - 9s 1s/step - loss: 0.4052 - acc: 0.8889\n",
      "864/864 [==============================] - 270s 312ms/step - loss: 0.4653 - acc: 0.8727 - val_loss: 0.4052 - val_acc: 0.8889\n",
      "Epoch 7/80\n",
      "7/7 [==============================] - 11s 2s/step - loss: 0.3566 - acc: 0.8796\n",
      "864/864 [==============================] - 604s 699ms/step - loss: 0.4441 - acc: 0.8588 - val_loss: 0.3566 - val_acc: 0.8796\n",
      "Epoch 8/80\n",
      "7/7 [==============================] - 8s 1s/step - loss: 0.2527 - acc: 0.9352\n",
      "864/864 [==============================] - 295s 341ms/step - loss: 0.3584 - acc: 0.8947 - val_loss: 0.2527 - val_acc: 0.9352\n",
      "Epoch 9/80\n",
      "7/7 [==============================] - 11s 2s/step - loss: 0.2618 - acc: 0.9259\n",
      "864/864 [==============================] - 305s 353ms/step - loss: 0.3032 - acc: 0.9144 - val_loss: 0.2618 - val_acc: 0.9259\n",
      "Epoch 10/80\n",
      "7/7 [==============================] - 13s 2s/step - loss: 0.1840 - acc: 0.9630\n",
      "864/864 [==============================] - 287s 332ms/step - loss: 0.2576 - acc: 0.9329 - val_loss: 0.1840 - val_acc: 0.9630\n",
      "Epoch 11/80\n",
      "7/7 [==============================] - 9s 1s/step - loss: 0.2054 - acc: 0.9444\n",
      "864/864 [==============================] - 298s 345ms/step - loss: 0.2215 - acc: 0.9375 - val_loss: 0.2054 - val_acc: 0.9444\n",
      "Epoch 12/80\n",
      "7/7 [==============================] - 8s 1s/step - loss: 0.1890 - acc: 0.9259\n",
      "864/864 [==============================] - 234s 271ms/step - loss: 0.2084 - acc: 0.9352 - val_loss: 0.1890 - val_acc: 0.9259\n",
      "Epoch 13/80\n",
      "7/7 [==============================] - 8s 1s/step - loss: 0.1318 - acc: 0.9583\n",
      "864/864 [==============================] - 229s 266ms/step - loss: 0.1843 - acc: 0.9444 - val_loss: 0.1318 - val_acc: 0.9583\n",
      "Epoch 14/80\n",
      "7/7 [==============================] - 8s 1s/step - loss: 0.1074 - acc: 0.9630\n",
      "864/864 [==============================] - 242s 280ms/step - loss: 0.1650 - acc: 0.9514 - val_loss: 0.1074 - val_acc: 0.9630\n",
      "Epoch 15/80\n",
      "7/7 [==============================] - 8s 1s/step - loss: 0.0855 - acc: 0.9815\n",
      "864/864 [==============================] - 226s 261ms/step - loss: 0.1306 - acc: 0.9630 - val_loss: 0.0855 - val_acc: 0.9815\n",
      "Epoch 16/80\n",
      "7/7 [==============================] - 8s 1s/step - loss: 0.1782 - acc: 0.9537\n",
      "864/864 [==============================] - 225s 261ms/step - loss: 0.1428 - acc: 0.9502 - val_loss: 0.1782 - val_acc: 0.9537\n",
      "Epoch 17/80\n",
      "7/7 [==============================] - 7s 1s/step - loss: 0.0529 - acc: 0.9815\n",
      "864/864 [==============================] - 222s 257ms/step - loss: 0.1528 - acc: 0.9491 - val_loss: 0.0529 - val_acc: 0.9815\n",
      "Epoch 18/80\n",
      "7/7 [==============================] - 7s 1s/step - loss: 0.0800 - acc: 0.9676\n",
      "864/864 [==============================] - 220s 254ms/step - loss: 0.1155 - acc: 0.9653 - val_loss: 0.0800 - val_acc: 0.9676\n",
      "Epoch 19/80\n",
      "7/7 [==============================] - 7s 1s/step - loss: 0.0990 - acc: 0.9583\n",
      "864/864 [==============================] - 221s 255ms/step - loss: 0.1302 - acc: 0.9606 - val_loss: 0.0990 - val_acc: 0.9583\n",
      "Epoch 20/80\n",
      "7/7 [==============================] - 7s 1s/step - loss: 0.1049 - acc: 0.9583\n",
      "864/864 [==============================] - 220s 255ms/step - loss: 0.1277 - acc: 0.9560 - val_loss: 0.1049 - val_acc: 0.9583\n",
      "Epoch 21/80\n",
      "7/7 [==============================] - 7s 1s/step - loss: 0.1169 - acc: 0.9491\n",
      "864/864 [==============================] - 220s 255ms/step - loss: 0.0924 - acc: 0.9745 - val_loss: 0.1169 - val_acc: 0.9491\n",
      "Epoch 22/80\n",
      "7/7 [==============================] - 7s 1s/step - loss: 0.1364 - acc: 0.9491\n",
      "864/864 [==============================] - 220s 255ms/step - loss: 0.1168 - acc: 0.9653 - val_loss: 0.1364 - val_acc: 0.9491\n",
      "Epoch 23/80\n",
      "7/7 [==============================] - 8s 1s/step - loss: 0.0746 - acc: 0.9769\n",
      "864/864 [==============================] - 609s 705ms/step - loss: 0.1029 - acc: 0.9664 - val_loss: 0.0746 - val_acc: 0.9769\n",
      "Epoch 24/80\n",
      "7/7 [==============================] - 8s 1s/step - loss: 0.0495 - acc: 0.9861\n",
      "864/864 [==============================] - 226s 262ms/step - loss: 0.0819 - acc: 0.9769 - val_loss: 0.0495 - val_acc: 0.9861\n",
      "Epoch 25/80\n",
      "7/7 [==============================] - 8s 1s/step - loss: 0.0688 - acc: 0.9815\n",
      "864/864 [==============================] - 228s 264ms/step - loss: 0.0806 - acc: 0.9711 - val_loss: 0.0688 - val_acc: 0.9815\n",
      "Epoch 26/80\n",
      "7/7 [==============================] - 8s 1s/step - loss: 0.0631 - acc: 0.9861\n",
      "864/864 [==============================] - 225s 261ms/step - loss: 0.0584 - acc: 0.9769 - val_loss: 0.0631 - val_acc: 0.9861\n",
      "Epoch 27/80\n",
      "7/7 [==============================] - 7s 1s/step - loss: 0.0478 - acc: 0.9815\n",
      "864/864 [==============================] - 224s 259ms/step - loss: 0.1228 - acc: 0.9653 - val_loss: 0.0478 - val_acc: 0.9815\n",
      "Epoch 28/80\n",
      "7/7 [==============================] - 7s 1s/step - loss: 0.0483 - acc: 0.9815\n",
      "864/864 [==============================] - 220s 254ms/step - loss: 0.0884 - acc: 0.9664 - val_loss: 0.0483 - val_acc: 0.9815\n",
      "Epoch 29/80\n",
      "7/7 [==============================] - 10s 1s/step - loss: 0.0920 - acc: 0.9676\n",
      "864/864 [==============================] - 245s 284ms/step - loss: 0.0814 - acc: 0.9711 - val_loss: 0.0920 - val_acc: 0.9676\n",
      "Epoch 30/80\n",
      "7/7 [==============================] - 9s 1s/step - loss: 0.0524 - acc: 0.9769\n",
      "864/864 [==============================] - 282s 327ms/step - loss: 0.0810 - acc: 0.9757 - val_loss: 0.0524 - val_acc: 0.9769\n",
      "Epoch 31/80\n",
      "7/7 [==============================] - 9s 1s/step - loss: 0.0558 - acc: 0.9769\n",
      "864/864 [==============================] - 286s 331ms/step - loss: 0.1240 - acc: 0.9688 - val_loss: 0.0558 - val_acc: 0.9769\n",
      "Epoch 32/80\n",
      "7/7 [==============================] - 10s 1s/step - loss: 0.0366 - acc: 0.9907\n",
      "864/864 [==============================] - 282s 326ms/step - loss: 0.0870 - acc: 0.9769 - val_loss: 0.0366 - val_acc: 0.9907\n",
      "Epoch 33/80\n",
      "7/7 [==============================] - 10s 1s/step - loss: 0.0424 - acc: 0.9907\n",
      "864/864 [==============================] - 287s 332ms/step - loss: 0.0584 - acc: 0.9803 - val_loss: 0.0424 - val_acc: 0.9907\n",
      "Epoch 34/80\n",
      "7/7 [==============================] - 10s 1s/step - loss: 0.1335 - acc: 0.9630\n",
      "864/864 [==============================] - 278s 322ms/step - loss: 0.0801 - acc: 0.9780 - val_loss: 0.1335 - val_acc: 0.9630\n",
      "Epoch 35/80\n",
      "7/7 [==============================] - 9s 1s/step - loss: 0.0884 - acc: 0.9676\n",
      "864/864 [==============================] - 279s 322ms/step - loss: 0.0609 - acc: 0.9780 - val_loss: 0.0884 - val_acc: 0.9676\n",
      "Epoch 36/80\n",
      "7/7 [==============================] - 10s 1s/step - loss: 0.0857 - acc: 0.9722\n",
      "864/864 [==============================] - 291s 337ms/step - loss: 0.0661 - acc: 0.9815 - val_loss: 0.0857 - val_acc: 0.9722\n",
      "Epoch 37/80\n",
      "7/7 [==============================] - 10s 1s/step - loss: 0.0722 - acc: 0.9815\n",
      "864/864 [==============================] - 314s 364ms/step - loss: 0.0642 - acc: 0.9769 - val_loss: 0.0722 - val_acc: 0.9815\n",
      "Epoch 38/80\n",
      "7/7 [==============================] - 12s 2s/step - loss: 0.1449 - acc: 0.9537\n",
      "864/864 [==============================] - 316s 365ms/step - loss: 0.0732 - acc: 0.9815 - val_loss: 0.1449 - val_acc: 0.9537\n"
     ]
    },
    {
     "name": "stdout",
     "output_type": "stream",
     "text": [
      "Epoch 39/80\n",
      "7/7 [==============================] - 10s 1s/step - loss: 0.0917 - acc: 0.9815\n",
      "864/864 [==============================] - 310s 359ms/step - loss: 0.0877 - acc: 0.9745 - val_loss: 0.0917 - val_acc: 0.9815\n",
      "Epoch 40/80\n",
      "7/7 [==============================] - 10s 1s/step - loss: 0.0583 - acc: 0.9676\n",
      "864/864 [==============================] - 281s 325ms/step - loss: 0.0591 - acc: 0.9792 - val_loss: 0.0583 - val_acc: 0.9676\n",
      "Epoch 41/80\n",
      "7/7 [==============================] - 9s 1s/step - loss: 0.0640 - acc: 0.9769\n",
      "864/864 [==============================] - 299s 346ms/step - loss: 0.0767 - acc: 0.9745 - val_loss: 0.0640 - val_acc: 0.9769\n",
      "Epoch 42/80\n",
      "7/7 [==============================] - 9s 1s/step - loss: 0.0655 - acc: 0.9815\n",
      "864/864 [==============================] - 304s 352ms/step - loss: 0.0692 - acc: 0.9769 - val_loss: 0.0655 - val_acc: 0.9815\n",
      "Epoch 43/80\n",
      "7/7 [==============================] - 10s 1s/step - loss: 0.0895 - acc: 0.9769\n",
      "864/864 [==============================] - 272s 315ms/step - loss: 0.0556 - acc: 0.9792 - val_loss: 0.0895 - val_acc: 0.9769\n",
      "Epoch 44/80\n",
      "7/7 [==============================] - 11s 2s/step - loss: 0.0441 - acc: 0.9907\n",
      "864/864 [==============================] - 285s 329ms/step - loss: 0.0607 - acc: 0.9792 - val_loss: 0.0441 - val_acc: 0.9907\n",
      "Epoch 45/80\n",
      "7/7 [==============================] - 9s 1s/step - loss: 0.0430 - acc: 0.9815\n",
      "864/864 [==============================] - 256s 297ms/step - loss: 0.0543 - acc: 0.9826 - val_loss: 0.0430 - val_acc: 0.9815\n",
      "Epoch 46/80\n",
      "7/7 [==============================] - 9s 1s/step - loss: 0.0573 - acc: 0.9861\n",
      "864/864 [==============================] - 286s 331ms/step - loss: 0.0514 - acc: 0.9826 - val_loss: 0.0573 - val_acc: 0.9861\n",
      "Epoch 47/80\n",
      "7/7 [==============================] - 9s 1s/step - loss: 0.0321 - acc: 0.9815\n",
      "864/864 [==============================] - 273s 316ms/step - loss: 0.0809 - acc: 0.9699 - val_loss: 0.0321 - val_acc: 0.9815\n",
      "Epoch 48/80\n",
      "7/7 [==============================] - 9s 1s/step - loss: 0.0667 - acc: 0.9815\n",
      "864/864 [==============================] - 281s 325ms/step - loss: 0.0485 - acc: 0.9757 - val_loss: 0.0667 - val_acc: 0.9815\n",
      "Epoch 49/80\n",
      "7/7 [==============================] - 11s 2s/step - loss: 0.0590 - acc: 0.9769\n",
      "864/864 [==============================] - 278s 322ms/step - loss: 0.0480 - acc: 0.9861 - val_loss: 0.0590 - val_acc: 0.9769\n",
      "Epoch 50/80\n",
      "7/7 [==============================] - 9s 1s/step - loss: 0.0766 - acc: 0.9722\n",
      "864/864 [==============================] - 312s 362ms/step - loss: 0.0521 - acc: 0.9792 - val_loss: 0.0766 - val_acc: 0.9722\n",
      "Epoch 51/80\n",
      "7/7 [==============================] - 10s 1s/step - loss: 0.0338 - acc: 0.9861\n",
      "864/864 [==============================] - 263s 304ms/step - loss: 0.0739 - acc: 0.9722 - val_loss: 0.0338 - val_acc: 0.9861\n",
      "Epoch 52/80\n",
      "7/7 [==============================] - 13s 2s/step - loss: 0.0514 - acc: 0.9722\n",
      "864/864 [==============================] - 276s 320ms/step - loss: 0.0429 - acc: 0.9838 - val_loss: 0.0514 - val_acc: 0.9722\n",
      "Epoch 53/80\n",
      "7/7 [==============================] - 10s 1s/step - loss: 0.0452 - acc: 0.9769\n",
      "864/864 [==============================] - 313s 362ms/step - loss: 0.0516 - acc: 0.9780 - val_loss: 0.0452 - val_acc: 0.9769\n",
      "Epoch 54/80\n",
      "7/7 [==============================] - 9s 1s/step - loss: 0.0653 - acc: 0.9769\n",
      "864/864 [==============================] - 284s 328ms/step - loss: 0.0550 - acc: 0.9850 - val_loss: 0.0653 - val_acc: 0.9769\n",
      "Epoch 55/80\n",
      "7/7 [==============================] - 9s 1s/step - loss: 0.0406 - acc: 0.9907\n",
      "864/864 [==============================] - 272s 315ms/step - loss: 0.0440 - acc: 0.9838 - val_loss: 0.0406 - val_acc: 0.9907\n",
      "Epoch 56/80\n",
      "7/7 [==============================] - 9s 1s/step - loss: 0.0778 - acc: 0.9722\n",
      "864/864 [==============================] - 285s 330ms/step - loss: 0.0725 - acc: 0.9711 - val_loss: 0.0778 - val_acc: 0.9722\n",
      "Epoch 57/80\n",
      "7/7 [==============================] - 9s 1s/step - loss: 0.0558 - acc: 0.9815\n",
      "864/864 [==============================] - 275s 318ms/step - loss: 0.0562 - acc: 0.9826 - val_loss: 0.0558 - val_acc: 0.9815\n",
      "Epoch 58/80\n",
      "7/7 [==============================] - 9s 1s/step - loss: 0.0424 - acc: 0.9861\n",
      "864/864 [==============================] - 273s 316ms/step - loss: 0.0477 - acc: 0.9838 - val_loss: 0.0424 - val_acc: 0.9861\n",
      "Epoch 59/80\n",
      "7/7 [==============================] - 10s 1s/step - loss: 0.0355 - acc: 0.9954\n",
      "864/864 [==============================] - 291s 337ms/step - loss: 0.0470 - acc: 0.9826 - val_loss: 0.0355 - val_acc: 0.9954\n"
     ]
    },
    {
     "data": {
      "text/plain": [
       "<tensorflow.python.keras.callbacks.History at 0x1d240d07a08>"
      ]
     },
     "execution_count": 17,
     "metadata": {},
     "output_type": "execute_result"
    }
   ],
   "source": [
    "batch_size = 1\n",
    "callbacks = [tensorboard_callback, stop_training_callback()]\n",
    "model.fit_generator(\n",
    "      train_generator,\n",
    "      steps_per_epoch = train_generator.samples // batch_size,\n",
    "      validation_data = validation_generator, \n",
    "      validation_steps = validation_generator.samples // batch_size,\n",
    "      epochs = 80, callbacks=callbacks)"
   ]
  },
  {
   "cell_type": "code",
   "execution_count": 18,
   "metadata": {},
   "outputs": [],
   "source": [
    "model.save_weights('model1.h5')"
   ]
  },
  {
   "cell_type": "code",
   "execution_count": 19,
   "metadata": {
    "colab": {},
    "colab_type": "code",
    "id": "qFevjr5YcSDU"
   },
   "outputs": [
    {
     "name": "stdout",
     "output_type": "stream",
     "text": [
      "The tensorboard module is not an IPython extension.\n"
     ]
    },
    {
     "name": "stderr",
     "output_type": "stream",
     "text": [
      "UsageError: Line magic function `%tensorboard` not found.\n"
     ]
    }
   ],
   "source": [
    "# !kill 8400\n",
    "%load_ext tensorboard\n",
    "%tensorboard --logdir logs/fit"
   ]
  },
  {
   "cell_type": "code",
   "execution_count": 20,
   "metadata": {
    "colab": {
     "base_uri": "https://localhost:8080/",
     "height": 34
    },
    "colab_type": "code",
    "id": "3PICNwtZUDAD",
    "outputId": "483eda61-5d3a-4600-ab47-e1cd1bb6058e"
   },
   "outputs": [
    {
     "name": "stdout",
     "output_type": "stream",
     "text": [
      "MKR3DK2REE\n"
     ]
    }
   ],
   "source": [
    "def fix_dimension(img): \n",
    "  new_img = np.zeros((28,28,3))\n",
    "  for i in range(3):\n",
    "    new_img[:,:,i] = img\n",
    "  return new_img\n",
    "  \n",
    "def show_results():\n",
    "    dic = {}\n",
    "    characters = '0123456789ABCDEFGHIJKLMNOPQRSTUVWXYZ'\n",
    "    for i,c in enumerate(characters):\n",
    "        dic[i] = c\n",
    "\n",
    "    output = []\n",
    "    for i,ch in enumerate(char): #iterating over the characters\n",
    "        img_ = cv2.resize(ch, (28,28))\n",
    "        img = fix_dimension(img_)\n",
    "        img = img.reshape(1,28,28,3) #preparing image for the model\n",
    "        y_ = model.predict_classes(img)[0] #predicting the class\n",
    "        character = dic[y_] #\n",
    "        output.append(character) #storing the result in a list\n",
    "        \n",
    "    plate_number = ''.join(output)\n",
    "    \n",
    "    return plate_number\n",
    "\n",
    "print(show_results())"
   ]
  },
  {
   "cell_type": "code",
   "execution_count": 24,
   "metadata": {
    "colab": {
     "base_uri": "https://localhost:8080/",
     "height": 373
    },
    "colab_type": "code",
    "id": "urZpH4YFUDAI",
    "outputId": "6688d92e-0c11-48c7-baa3-1c44b36873aa"
   },
   "outputs": [
    {
     "data": {
      "image/png": "[encoded data removed]",
      "text/plain": [
       "<Figure size 720x432 with 10 Axes>"
      ]
     },
     "metadata": {
      "needs_background": "light"
     },
     "output_type": "display_data"
    }
   ],
   "source": [
    "plt.figure(figsize=(10,6))\n",
    "for i,ch in enumerate(char):\n",
    "    img = cv2.resize(ch, (28,28))\n",
    "    plt.subplot(3,4,i+1)\n",
    "    plt.imshow(img,cmap='gray')\n",
    "    plt.title(f'predicted: {show_results()[i]}')\n",
    "    plt.axis('off')\n",
    "plt.show()"
   ]
  },
  {
   "cell_type": "code",
   "execution_count": 0,
   "metadata": {
    "colab": {},
    "colab_type": "code",
    "id": "uBboEZgAUDAT"
   },
   "outputs": [],
   "source": []
  }
 ],
 "metadata": {
  "accelerator": "GPU",
  "colab": {
   "collapsed_sections": [],
   "name": "ai_powered_license_plate_detector.ipynb",
   "provenance": []
  },
  "kernelspec": {
   "display_name": "Python 3",
   "language": "python",
   "name": "python3"
  },
  "language_info": {
   "codemirror_mode": {
    "name": "ipython",
    "version": 3
   },
   "file_extension": ".py",
   "mimetype": "text/x-python",
   "name": "python",
   "nbconvert_exporter": "python",
   "pygments_lexer": "ipython3",
   "version": "3.7.3"
  }
 },
 "nbformat": 4,
 "nbformat_minor": 1
}
